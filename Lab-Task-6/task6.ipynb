{
 "cells": [
  {
   "cell_type": "markdown",
   "id": "f33bf0cb",
   "metadata": {},
   "source": [
    "#### BFS without Queue"
   ]
  },
  {
   "cell_type": "code",
   "execution_count": 7,
   "id": "9268e484",
   "metadata": {},
   "outputs": [
    {
     "name": "stdout",
     "output_type": "stream",
     "text": [
      "BFS without Queue: ['A', 'B', 'C', 'D', 'E', 'F', 'G']\n"
     ]
    }
   ],
   "source": [
    "graph = {\n",
    "    'A': ['B', 'C'],\n",
    "    'B': ['D', 'E'],\n",
    "    'C': ['F'],\n",
    "    'D': [],\n",
    "    'E': ['G'],\n",
    "    'F': [],\n",
    "    'G': []\n",
    "}\n",
    "\n",
    "def bfs_without_queue(start):\n",
    "    visited = []\n",
    "    frontier = [start]   \n",
    "    while frontier:\n",
    "        next_frontier = []\n",
    "        for node in frontier:\n",
    "            if node not in visited:\n",
    "                visited.append(node)\n",
    "                next_frontier.extend(graph[node])\n",
    "        frontier = next_frontier\n",
    "    return visited\n",
    "\n",
    "print(\"BFS without Queue:\", bfs_without_queue('A'))"
   ]
  },
  {
   "cell_type": "markdown",
   "id": "da78eced",
   "metadata": {},
   "source": [
    "#### BFS with Queue"
   ]
  },
  {
   "cell_type": "code",
   "execution_count": 8,
   "id": "d7a4d175",
   "metadata": {},
   "outputs": [
    {
     "name": "stdout",
     "output_type": "stream",
     "text": [
      "BFS with Queue: ['A', 'B', 'C', 'D', 'E', 'F', 'G']\n"
     ]
    }
   ],
   "source": [
    "from collections import deque\n",
    "\n",
    "class Node:\n",
    "    def __init__(self, value): \n",
    "        self.value = value\n",
    "        self.neighbors = []\n",
    "\n",
    "A, B, C, D, E, F, G = Node('A'), Node('B'), Node('C'), Node('D'), Node('E'), Node('F'), Node('G')\n",
    "\n",
    "A.neighbors = [B, C]\n",
    "B.neighbors = [D, E]\n",
    "C.neighbors = [F]\n",
    "E.neighbors = [G]\n",
    "\n",
    "def bfs_with_queue(start):\n",
    "    visited = []\n",
    "    queue = deque([start])   \n",
    "    while queue:\n",
    "        node = queue.popleft()\n",
    "        if node.value not in visited:\n",
    "            visited.append(node.value)\n",
    "            queue.extend(node.neighbors)\n",
    "    return visited\n",
    "\n",
    "print(\"BFS with Queue:\", bfs_with_queue(A))"
   ]
  }
 ],
 "metadata": {
  "kernelspec": {
   "display_name": "Python 3",
   "language": "python",
   "name": "python3"
  },
  "language_info": {
   "codemirror_mode": {
    "name": "ipython",
    "version": 3
   },
   "file_extension": ".py",
   "mimetype": "text/x-python",
   "name": "python",
   "nbconvert_exporter": "python",
   "pygments_lexer": "ipython3",
   "version": "3.12.3"
  }
 },
 "nbformat": 4,
 "nbformat_minor": 5
}
