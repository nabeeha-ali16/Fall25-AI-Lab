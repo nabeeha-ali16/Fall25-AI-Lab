{
 "cells": [
  {
   "cell_type": "markdown",
   "id": "82e2837a",
   "metadata": {},
   "source": [
    "### Task 1: LUHN Algorithm"
   ]
  },
  {
   "cell_type": "code",
   "execution_count": 1,
   "id": "9ab262aa",
   "metadata": {},
   "outputs": [
    {
     "name": "stdout",
     "output_type": "stream",
     "text": [
      "Valid Card\n"
     ]
    }
   ],
   "source": [
    "def luhn_algorithm(card_number):\n",
    "    \n",
    "    check_digit = int(card_number[-1])\n",
    "    digits = [int(x) for x in card_number[:-1]]\n",
    "    digits.reverse()\n",
    "    \n",
    "    for i in range(0, len(digits), 2):\n",
    "        digits[i] *= 2\n",
    "        if digits[i] > 9:\n",
    "            digits[i] -= 9\n",
    "\n",
    "    total = sum(digits) + check_digit\n",
    "    return total % 10 == 0\n",
    "\n",
    "card_num = \"5893804115457289\"  \n",
    "print(\"Valid Card\" if luhn_algorithm(card_num) else \"Invalid Card\")\n"
   ]
  },
  {
   "cell_type": "markdown",
   "id": "cd1f0487",
   "metadata": {},
   "source": [
    "### Task 2: Remove Punctuations"
   ]
  },
  {
   "cell_type": "code",
   "execution_count": 2,
   "id": "06d734c9",
   "metadata": {},
   "outputs": [
    {
     "name": "stdout",
     "output_type": "stream",
     "text": [
      "Original: Hello, world! This is AI Lab - 4.\n",
      "Without Punctuation: Hello world This is AI Lab  4\n"
     ]
    }
   ],
   "source": [
    "import string\n",
    "\n",
    "def punctuation(text):\n",
    "    return \"\".join(ch for ch in text if ch not in string.punctuation)\n",
    "\n",
    "sample = \"Hello, world! This is AI Lab - 4.\"\n",
    "print(\"Original:\", sample)\n",
    "print(\"Without Punctuation:\", punctuation(sample))"
   ]
  },
  {
   "cell_type": "markdown",
   "id": "0fd6fd04",
   "metadata": {},
   "source": [
    "### Task 3: Sort Sentence Alphabetically"
   ]
  },
  {
   "cell_type": "code",
   "execution_count": 3,
   "id": "f74edb57",
   "metadata": {},
   "outputs": [
    {
     "name": "stdout",
     "output_type": "stream",
     "text": [
      "Original: artificial intelligence lab is interesting\n",
      "Alphabetical Order: artificial intelligence interesting is lab\n"
     ]
    }
   ],
   "source": [
    "def sort_sentence(sentence):\n",
    "    words = sentence.split()\n",
    "    \n",
    "    n = len(words)\n",
    "    for i in range(n):\n",
    "        for j in range(0, n - i - 1):\n",
    "            if words[j].lower() > words[j + 1].lower():\n",
    "                words[j], words[j + 1] = words[j + 1], words[j]\n",
    "    \n",
    "    return \" \".join(words)\n",
    "\n",
    "sentence = \"artificial intelligence lab is interesting\"\n",
    "print(\"Original:\", sentence)\n",
    "print(\"Alphabetical Order:\", sort_sentence(sentence))\n"
   ]
  }
 ],
 "metadata": {
  "kernelspec": {
   "display_name": "Python 3",
   "language": "python",
   "name": "python3"
  },
  "language_info": {
   "codemirror_mode": {
    "name": "ipython",
    "version": 3
   },
   "file_extension": ".py",
   "mimetype": "text/x-python",
   "name": "python",
   "nbconvert_exporter": "python",
   "pygments_lexer": "ipython3",
   "version": "3.12.3"
  }
 },
 "nbformat": 4,
 "nbformat_minor": 5
}
